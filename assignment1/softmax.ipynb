{
 "cells": [
  {
   "cell_type": "markdown",
   "metadata": {},
   "source": [
    "# Softmax exercise\n",
    "\n",
    "*Complete and hand in this completed worksheet (including its outputs and any supporting code outside of the worksheet) with your assignment submission. For more details see the [assignments page](http://vision.stanford.edu/teaching/cs231n/assignments.html) on the course website.*\n",
    "\n",
    "This exercise is analogous to the SVM exercise. You will:\n",
    "\n",
    "- implement a fully-vectorized **loss function** for the Softmax classifier\n",
    "- implement the fully-vectorized expression for its **analytic gradient**\n",
    "- **check your implementation** with numerical gradient\n",
    "- use a validation set to **tune the learning rate and regularization** strength\n",
    "- **optimize** the loss function with **SGD**\n",
    "- **visualize** the final learned weights\n"
   ]
  },
  {
   "cell_type": "code",
   "execution_count": 1,
   "metadata": {
    "collapsed": false
   },
   "outputs": [],
   "source": [
    "import random\n",
    "import numpy as np\n",
    "from cs231n.data_utils import load_CIFAR10\n",
    "import matplotlib.pyplot as plt\n",
    "\n",
    "from __future__ import print_function\n",
    "\n",
    "%matplotlib inline\n",
    "plt.rcParams['figure.figsize'] = (10.0, 8.0) # set default size of plots\n",
    "plt.rcParams['image.interpolation'] = 'nearest'\n",
    "plt.rcParams['image.cmap'] = 'gray'\n",
    "\n",
    "# for auto-reloading extenrnal modules\n",
    "# see http://stackoverflow.com/questions/1907993/autoreload-of-modules-in-ipython\n",
    "%load_ext autoreload\n",
    "%autoreload 2"
   ]
  },
  {
   "cell_type": "code",
   "execution_count": 2,
   "metadata": {
    "collapsed": false
   },
   "outputs": [
    {
     "name": "stdout",
     "output_type": "stream",
     "text": [
      "Train data shape:  (49000, 3073)\n",
      "Train labels shape:  (49000,)\n",
      "Validation data shape:  (1000, 3073)\n",
      "Validation labels shape:  (1000,)\n",
      "Test data shape:  (1000, 3073)\n",
      "Test labels shape:  (1000,)\n",
      "dev data shape:  (500, 3073)\n",
      "dev labels shape:  (500,)\n"
     ]
    }
   ],
   "source": [
    "def get_CIFAR10_data(num_training=49000, num_validation=1000, num_test=1000, num_dev=500):\n",
    "    \"\"\"\n",
    "    Load the CIFAR-10 dataset from disk and perform preprocessing to prepare\n",
    "    it for the linear classifier. These are the same steps as we used for the\n",
    "    SVM, but condensed to a single function.  \n",
    "    \"\"\"\n",
    "    # Load the raw CIFAR-10 data\n",
    "    cifar10_dir = 'cs231n/datasets/cifar-10-batches-py'\n",
    "    X_train, y_train, X_test, y_test = load_CIFAR10(cifar10_dir)\n",
    "    \n",
    "    # subsample the data\n",
    "    mask = list(range(num_training, num_training + num_validation))\n",
    "    X_val = X_train[mask]\n",
    "    y_val = y_train[mask]\n",
    "    mask = list(range(num_training))\n",
    "    X_train = X_train[mask]\n",
    "    y_train = y_train[mask]\n",
    "    mask = list(range(num_test))\n",
    "    X_test = X_test[mask]\n",
    "    y_test = y_test[mask]\n",
    "    mask = np.random.choice(num_training, num_dev, replace=False)\n",
    "    X_dev = X_train[mask]\n",
    "    y_dev = y_train[mask]\n",
    "    \n",
    "    # Preprocessing: reshape the image data into rows\n",
    "    X_train = np.reshape(X_train, (X_train.shape[0], -1))\n",
    "    X_val = np.reshape(X_val, (X_val.shape[0], -1))\n",
    "    X_test = np.reshape(X_test, (X_test.shape[0], -1))\n",
    "    X_dev = np.reshape(X_dev, (X_dev.shape[0], -1))\n",
    "    \n",
    "    # Normalize the data: subtract the mean image\n",
    "    mean_image = np.mean(X_train, axis = 0)\n",
    "    X_train -= mean_image\n",
    "    X_val -= mean_image\n",
    "    X_test -= mean_image\n",
    "    X_dev -= mean_image\n",
    "    \n",
    "    # add bias dimension and transform into columns\n",
    "    X_train = np.hstack([X_train, np.ones((X_train.shape[0], 1))])\n",
    "    X_val = np.hstack([X_val, np.ones((X_val.shape[0], 1))])\n",
    "    X_test = np.hstack([X_test, np.ones((X_test.shape[0], 1))])\n",
    "    X_dev = np.hstack([X_dev, np.ones((X_dev.shape[0], 1))])\n",
    "    \n",
    "    return X_train, y_train, X_val, y_val, X_test, y_test, X_dev, y_dev\n",
    "\n",
    "\n",
    "# Invoke the above function to get our data.\n",
    "X_train, y_train, X_val, y_val, X_test, y_test, X_dev, y_dev = get_CIFAR10_data()\n",
    "print('Train data shape: ', X_train.shape)\n",
    "print('Train labels shape: ', y_train.shape)\n",
    "print('Validation data shape: ', X_val.shape)\n",
    "print('Validation labels shape: ', y_val.shape)\n",
    "print('Test data shape: ', X_test.shape)\n",
    "print('Test labels shape: ', y_test.shape)\n",
    "print('dev data shape: ', X_dev.shape)\n",
    "print('dev labels shape: ', y_dev.shape)"
   ]
  },
  {
   "cell_type": "markdown",
   "metadata": {},
   "source": [
    "## Softmax Classifier\n",
    "\n",
    "Your code for this section will all be written inside **cs231n/classifiers/softmax.py**. \n"
   ]
  },
  {
   "cell_type": "code",
   "execution_count": 10,
   "metadata": {
    "collapsed": false
   },
   "outputs": [
    {
     "name": "stdout",
     "output_type": "stream",
     "text": [
      "loss: 2.365747\n",
      "sanity check: 2.302585\n"
     ]
    }
   ],
   "source": [
    "# First implement the naive softmax loss function with nested loops.\n",
    "# Open the file cs231n/classifiers/softmax.py and implement the\n",
    "# softmax_loss_naive function.\n",
    "\n",
    "from cs231n.classifiers.softmax import softmax_loss_naive\n",
    "import time\n",
    "\n",
    "# Generate a random softmax weight matrix and use it to compute the loss.\n",
    "W = np.random.randn(3073, 10) * 0.0001\n",
    "loss, grad = softmax_loss_naive(W, X_dev, y_dev, 0.0)\n",
    "\n",
    "# As a rough sanity check, our loss should be something close to log(10).\n",
    "print('loss: %f' % loss)\n",
    "print('sanity check: %f' % (np.log(10)))"
   ]
  },
  {
   "cell_type": "markdown",
   "metadata": {},
   "source": [
    "## Inline Question 1:\n",
    "Why do we expect our loss to be close to -log(0.1)? Explain briefly.**\n",
    "\n",
    "**Your answer:** *Fill this in*\n",
    "\n",
    "We initialize small W, which leads to s~0 and therefore L_i ~ -log(1/10) = -log(.1). \n",
    "\n",
    "L = sum(L_i)/N ~ L_i = -log(.1)\n"
   ]
  },
  {
   "cell_type": "code",
   "execution_count": 11,
   "metadata": {
    "collapsed": false
   },
   "outputs": [
    {
     "name": "stdout",
     "output_type": "stream",
     "text": [
      "numerical: -2.158613 analytic: -2.158613, relative error: 1.279026e-08\n",
      "numerical: 2.368306 analytic: 2.368306, relative error: 6.998787e-10\n",
      "numerical: 2.479152 analytic: 2.479151, relative error: 2.689963e-08\n",
      "numerical: 0.267037 analytic: 0.267037, relative error: 9.491935e-08\n",
      "numerical: -0.858944 analytic: -0.858944, relative error: 7.679402e-08\n",
      "numerical: 3.328523 analytic: 3.328523, relative error: 5.621971e-09\n",
      "numerical: 0.253410 analytic: 0.253410, relative error: 6.796586e-08\n",
      "numerical: -0.628384 analytic: -0.628384, relative error: 8.586140e-08\n",
      "numerical: -0.936273 analytic: -0.936273, relative error: 3.252962e-08\n",
      "numerical: 1.628135 analytic: 1.628134, relative error: 3.911309e-08\n",
      "numerical: 3.248931 analytic: 3.248931, relative error: 5.556330e-09\n",
      "numerical: -0.358869 analytic: -0.358869, relative error: 8.568156e-09\n",
      "numerical: 0.198964 analytic: 0.198964, relative error: 2.774920e-07\n",
      "numerical: 1.827766 analytic: 1.827766, relative error: 9.484822e-09\n",
      "numerical: 0.539715 analytic: 0.539715, relative error: 2.856396e-08\n",
      "numerical: -0.859043 analytic: -0.859043, relative error: 2.978117e-08\n",
      "numerical: -1.901369 analytic: -1.901369, relative error: 2.747418e-08\n",
      "numerical: -0.079653 analytic: -0.079654, relative error: 4.970539e-07\n",
      "numerical: 1.971770 analytic: 1.971770, relative error: 7.657800e-09\n",
      "numerical: -0.921160 analytic: -0.921160, relative error: 4.160284e-08\n"
     ]
    }
   ],
   "source": [
    "# Complete the implementation of softmax_loss_naive and implement a (naive)\n",
    "# version of the gradient that uses nested loops.\n",
    "loss, grad = softmax_loss_naive(W, X_dev, y_dev, 0.0)\n",
    "\n",
    "# As we did for the SVM, use numeric gradient checking as a debugging tool.\n",
    "# The numeric gradient should be close to the analytic gradient.\n",
    "from cs231n.gradient_check import grad_check_sparse\n",
    "f = lambda w: softmax_loss_naive(w, X_dev, y_dev, 0.0)[0]\n",
    "grad_numerical = grad_check_sparse(f, W, grad, 10)\n",
    "\n",
    "# similar to SVM case, do another gradient check with regularization\n",
    "loss, grad = softmax_loss_naive(W, X_dev, y_dev, 5e1)\n",
    "f = lambda w: softmax_loss_naive(w, X_dev, y_dev, 5e1)[0]\n",
    "grad_numerical = grad_check_sparse(f, W, grad, 10)"
   ]
  },
  {
   "cell_type": "code",
   "execution_count": 26,
   "metadata": {
    "collapsed": false
   },
   "outputs": [
    {
     "name": "stdout",
     "output_type": "stream",
     "text": [
      "naive loss: 2.365747e+00 computed in 0.150877s\n",
      "shape  (500, 10)\n",
      "vectorized loss: 2.365747e+00 computed in 0.003641s\n",
      "Loss difference: 0.000000\n",
      "Gradient difference: 0.000000\n"
     ]
    }
   ],
   "source": [
    "# Now that we have a naive implementation of the softmax loss function and its gradient,\n",
    "# implement a vectorized version in softmax_loss_vectorized.\n",
    "# The two versions should compute the same results, but the vectorized version should be\n",
    "# much faster.\n",
    "tic = time.time()\n",
    "loss_naive, grad_naive = softmax_loss_naive(W, X_dev, y_dev, 0.000005)\n",
    "toc = time.time()\n",
    "print('naive loss: %e computed in %fs' % (loss_naive, toc - tic))\n",
    "\n",
    "from cs231n.classifiers.softmax import softmax_loss_vectorized\n",
    "tic = time.time()\n",
    "loss_vectorized, grad_vectorized = softmax_loss_vectorized(W, X_dev, y_dev, 0.000005)\n",
    "toc = time.time()\n",
    "print('vectorized loss: %e computed in %fs' % (loss_vectorized, toc - tic))\n",
    "\n",
    "# As we did for the SVM, we use the Frobenius norm to compare the two versions\n",
    "# of the gradient.\n",
    "grad_difference = np.linalg.norm(grad_naive - grad_vectorized, ord='fro')\n",
    "print('Loss difference: %f' % np.abs(loss_naive - loss_vectorized))\n",
    "print('Gradient difference: %f' % grad_difference)"
   ]
  },
  {
   "cell_type": "code",
   "execution_count": 36,
   "metadata": {
    "collapsed": false
   },
   "outputs": [
    {
     "name": "stdout",
     "output_type": "stream",
     "text": [
      "lr 1.000000e-08 reg 5.000000e+02 train accuracy: 0.141388 val accuracy: 0.132000\n",
      "lr 1.000000e-08 reg 1.000000e+03 train accuracy: 0.150755 val accuracy: 0.162000\n",
      "lr 1.000000e-08 reg 3.000000e+03 train accuracy: 0.150408 val accuracy: 0.161000\n",
      "lr 1.000000e-08 reg 5.000000e+03 train accuracy: 0.153184 val accuracy: 0.182000\n",
      "lr 1.000000e-08 reg 1.000000e+04 train accuracy: 0.173531 val accuracy: 0.176000\n",
      "lr 1.000000e-08 reg 5.000000e+04 train accuracy: 0.199551 val accuracy: 0.220000\n",
      "lr 5.000000e-08 reg 5.000000e+02 train accuracy: 0.209061 val accuracy: 0.213000\n",
      "lr 5.000000e-08 reg 1.000000e+03 train accuracy: 0.225327 val accuracy: 0.228000\n",
      "lr 5.000000e-08 reg 3.000000e+03 train accuracy: 0.221327 val accuracy: 0.237000\n",
      "lr 5.000000e-08 reg 5.000000e+03 train accuracy: 0.239653 val accuracy: 0.223000\n",
      "lr 5.000000e-08 reg 1.000000e+04 train accuracy: 0.270551 val accuracy: 0.270000\n",
      "lr 5.000000e-08 reg 5.000000e+04 train accuracy: 0.280857 val accuracy: 0.291000\n",
      "lr 1.000000e-07 reg 5.000000e+02 train accuracy: 0.231306 val accuracy: 0.244000\n",
      "lr 1.000000e-07 reg 1.000000e+03 train accuracy: 0.240653 val accuracy: 0.229000\n",
      "lr 1.000000e-07 reg 3.000000e+03 train accuracy: 0.266286 val accuracy: 0.269000\n",
      "lr 1.000000e-07 reg 5.000000e+03 train accuracy: 0.284408 val accuracy: 0.291000\n",
      "lr 1.000000e-07 reg 1.000000e+04 train accuracy: 0.301531 val accuracy: 0.309000\n",
      "lr 1.000000e-07 reg 5.000000e+04 train accuracy: 0.288449 val accuracy: 0.303000\n",
      "lr 5.000000e-07 reg 5.000000e+02 train accuracy: 0.279306 val accuracy: 0.264000\n",
      "lr 5.000000e-07 reg 1.000000e+03 train accuracy: 0.292469 val accuracy: 0.285000\n",
      "lr 5.000000e-07 reg 3.000000e+03 train accuracy: 0.304816 val accuracy: 0.319000\n",
      "lr 5.000000e-07 reg 5.000000e+03 train accuracy: 0.307735 val accuracy: 0.328000\n",
      "lr 5.000000e-07 reg 1.000000e+04 train accuracy: 0.301388 val accuracy: 0.309000\n",
      "lr 5.000000e-07 reg 5.000000e+04 train accuracy: 0.276000 val accuracy: 0.290000\n",
      "lr 2.000000e-06 reg 5.000000e+02 train accuracy: 0.288735 val accuracy: 0.280000\n",
      "lr 2.000000e-06 reg 1.000000e+03 train accuracy: 0.293122 val accuracy: 0.290000\n",
      "lr 2.000000e-06 reg 3.000000e+03 train accuracy: 0.297694 val accuracy: 0.306000\n",
      "lr 2.000000e-06 reg 5.000000e+03 train accuracy: 0.294714 val accuracy: 0.300000\n",
      "lr 2.000000e-06 reg 1.000000e+04 train accuracy: 0.300612 val accuracy: 0.321000\n",
      "lr 2.000000e-06 reg 5.000000e+04 train accuracy: 0.260327 val accuracy: 0.270000\n",
      "best validation accuracy achieved during cross-validation: 0.328000\n"
     ]
    }
   ],
   "source": [
    "# Use the validation set to tune hyperparameters (regularization strength and\n",
    "# learning rate). You should experiment with different ranges for the learning\n",
    "# rates and regularization strengths; if you are careful you should be able to\n",
    "# get a classification accuracy of over 0.35 on the validation set.\n",
    "from cs231n.classifiers import Softmax\n",
    "results = {}\n",
    "best_val = -1\n",
    "best_softmax = None\n",
    "learning_rates = [1e-8, 5e-8, 1e-7, 5e-7, 2e-6]\n",
    "regularization_strengths = [5e2, 1e3, 3e3, 5e3, 1e4,5e4]\n",
    "\n",
    "################################################################################\n",
    "# TODO:                                                                        #\n",
    "# Use the validation set to set the learning rate and regularization strength. #\n",
    "# This should be identical to the validation that you did for the SVM; save    #\n",
    "# the best trained softmax classifer in best_softmax.                          #\n",
    "################################################################################\n",
    "pass\n",
    "for lr in learning_rates:\n",
    "    for reg in regularization_strengths:\n",
    "        softmax = Softmax()\n",
    "        softmax.train(X_dev, y_dev, learning_rate=lr, reg=reg, num_iters=1500)\n",
    "        \n",
    "        y_pred_train = softmax.predict(X_train)\n",
    "        train_accuracy = np.mean(y_pred_train==y_train)\n",
    "        \n",
    "        y_pred_val = softmax.predict(X_val)\n",
    "        val_accuracy = np.mean(y_pred_val==y_val)\n",
    "        results[(lr,reg)] = (train_accuracy, val_accuracy)\n",
    "        if val_accuracy > best_val:\n",
    "            best_val = val_accuracy\n",
    "            best_softmax = softmax\n",
    "################################################################################\n",
    "#                              END OF YOUR CODE                                #\n",
    "################################################################################\n",
    "    \n",
    "# Print out results.\n",
    "for lr, reg in sorted(results):\n",
    "    train_accuracy, val_accuracy = results[(lr, reg)]\n",
    "    print('lr %e reg %e train accuracy: %f val accuracy: %f' % (\n",
    "                lr, reg, train_accuracy, val_accuracy))\n",
    "    \n",
    "print('best validation accuracy achieved during cross-validation: %f' % best_val)"
   ]
  },
  {
   "cell_type": "code",
   "execution_count": 37,
   "metadata": {
    "collapsed": false
   },
   "outputs": [
    {
     "name": "stdout",
     "output_type": "stream",
     "text": [
      "softmax on raw pixels final test set accuracy: 0.308000\n"
     ]
    }
   ],
   "source": [
    "# evaluate on test set\n",
    "# Evaluate the best softmax on test set\n",
    "y_test_pred = best_softmax.predict(X_test)\n",
    "test_accuracy = np.mean(y_test == y_test_pred)\n",
    "print('softmax on raw pixels final test set accuracy: %f' % (test_accuracy, ))"
   ]
  },
  {
   "cell_type": "code",
   "execution_count": 38,
   "metadata": {
    "collapsed": false
   },
   "outputs": [
    {
     "data": {
      "image/png": "[encoded data removed]",
      "text/plain": [
       "<matplotlib.figure.Figure at 0x7f9e665367b8>"
      ]
     },
     "metadata": {},
     "output_type": "display_data"
    }
   ],
   "source": [
    "# Visualize the learned weights for each class\n",
    "w = best_softmax.W[:-1,:] # strip out the bias\n",
    "w = w.reshape(32, 32, 3, 10)\n",
    "\n",
    "w_min, w_max = np.min(w), np.max(w)\n",
    "\n",
    "classes = ['plane', 'car', 'bird', 'cat', 'deer', 'dog', 'frog', 'horse', 'ship', 'truck']\n",
    "for i in range(10):\n",
    "    plt.subplot(2, 5, i + 1)\n",
    "    \n",
    "    # Rescale the weights to be between 0 and 255\n",
    "    wimg = 255.0 * (w[:, :, :, i].squeeze() - w_min) / (w_max - w_min)\n",
    "    plt.imshow(wimg.astype('uint8'))\n",
    "    plt.axis('off')\n",
    "    plt.title(classes[i])"
   ]
  },
  {
   "cell_type": "code",
   "execution_count": null,
   "metadata": {
    "collapsed": true
   },
   "outputs": [],
   "source": []
  }
 ],
 "metadata": {
  "kernelspec": {
   "display_name": "Python 3",
   "language": "python",
   "name": "python3"
  },
  "language_info": {
   "codemirror_mode": {
    "name": "ipython",
    "version": 3
   },
   "file_extension": ".py",
   "mimetype": "text/x-python",
   "name": "python",
   "nbconvert_exporter": "python",
   "pygments_lexer": "ipython3",
   "version": "3.5.4"
  }
 },
 "nbformat": 4,
 "nbformat_minor": 0
}
